{
  "nbformat": 4,
  "nbformat_minor": 0,
  "metadata": {
    "colab": {
      "provenance": [],
      "authorship_tag": "ABX9TyM5tOw7xPCnhU8AKB9Etjy+",
      "include_colab_link": true
    },
    "kernelspec": {
      "name": "python3",
      "display_name": "Python 3"
    },
    "language_info": {
      "name": "python"
    }
  },
  "cells": [
    {
      "cell_type": "markdown",
      "metadata": {
        "id": "view-in-github",
        "colab_type": "text"
      },
      "source": [
        "<a href=\"https://colab.research.google.com/github/ShamnazVH/Python/blob/main/pandasproject.ipynb\" target=\"_parent\"><img src=\"https://colab.research.google.com/assets/colab-badge.svg\" alt=\"Open In Colab\"/></a>"
      ]
    },
    {
      "cell_type": "markdown",
      "source": [],
      "metadata": {
        "id": "tixuqUnKTCR7"
      }
    },
    {
      "cell_type": "code",
      "execution_count": null,
      "metadata": {
        "colab": {
          "base_uri": "https://localhost:8080/"
        },
        "id": "W7HjG8dnSQan",
        "outputId": "e11c7e8c-8cd3-46cb-ce5f-1c770a9f695f"
      },
      "outputs": [
        {
          "output_type": "stream",
          "name": "stdout",
          "text": [
            "   CustomerID            Name   Age  Gender  Purchase_Amount Purchase_Date           City\n",
            "0        1001   Alice Johnson  29.0  Female           2500.0    2024-03-21       New York\n",
            "1        1002       Bob Smith  35.0    Male              NaN    2024-05-14  San Francisco\n",
            "2        1003  Carol Peterson   NaN  Female           3700.0    2024-06-11       new york\n",
            "3        1004    Daniel Craig  42.0    Male          12000.0    2024-02-28        Chicago\n",
            "4        1005    Eve Anderson  22.0  Female           3100.0       missing  san francisco\n",
            "5        1006    Frank Wright  55.0    Male            520.0    2024-04-01        Chicago\n",
            "6        1007       Grace Lee  31.0  Female           4400.0    2024-03-05       New York\n",
            "7        1008     Henry Davis  29.0    Male           8700.0    2024-05-22        Chicago\n",
            "8        1009    Isaac Newton  65.0    Male          51000.0    2024-01-01       NEW YORK\n",
            "9        1010    Jenny Thomas   NaN  Female           1800.0    2024-04-12  San Francisco\n"
          ]
        }
      ],
      "source": [
        "import pandas as pd\n",
        "df = pd.read_csv('customer_sales.csv')\n",
        "#If you want to view the DataFrame\n",
        "print(df.to_string())"
      ]
    },
    {
      "cell_type": "markdown",
      "source": [
        "To find rows and columns count\n"
      ],
      "metadata": {
        "id": "Uwz0nxSooix9"
      }
    },
    {
      "cell_type": "code",
      "source": [
        "# df.shape is not a function — it's a tuple that holds the shape of the DataFrame.\n",
        "new_df = df.shape\n",
        "print(new_df)\n",
        "\n"
      ],
      "metadata": {
        "colab": {
          "base_uri": "https://localhost:8080/"
        },
        "id": "d8LbKZrKomYp",
        "outputId": "9bd00617-0bdc-45c0-ba7c-4cebf32eb0ef"
      },
      "execution_count": null,
      "outputs": [
        {
          "output_type": "stream",
          "name": "stdout",
          "text": [
            "(10, 7)\n"
          ]
        }
      ]
    },
    {
      "cell_type": "markdown",
      "source": [
        "To return column names"
      ],
      "metadata": {
        "id": "NyH07hdBpcJx"
      }
    },
    {
      "cell_type": "code",
      "source": [
        "new_df = df.columns\n",
        "print(new_df)\n",
        "\n",
        "#or\n",
        "\n",
        "for col in df.columns:\n",
        "    print(col)\n",
        "\n"
      ],
      "metadata": {
        "colab": {
          "base_uri": "https://localhost:8080/"
        },
        "id": "vI1BIC_epgPk",
        "outputId": "d881704d-3980-424c-c092-ad3a714ccb78"
      },
      "execution_count": null,
      "outputs": [
        {
          "output_type": "stream",
          "name": "stdout",
          "text": [
            "Index(['CustomerID', 'Name', 'Age', 'Gender', 'Purchase_Amount',\n",
            "       'Purchase_Date', 'City'],\n",
            "      dtype='object')\n",
            "CustomerID\n",
            "Name\n",
            "Age\n",
            "Gender\n",
            "Purchase_Amount\n",
            "Purchase_Date\n",
            "City\n"
          ]
        }
      ]
    },
    {
      "cell_type": "markdown",
      "source": [
        "To return index Or (row labels)\n"
      ],
      "metadata": {
        "id": "_Ly7uxnJoi00"
      }
    },
    {
      "cell_type": "code",
      "source": [
        "new_df = df.index\n",
        "print(new_df)\n",
        "\n"
      ],
      "metadata": {
        "colab": {
          "base_uri": "https://localhost:8080/"
        },
        "id": "QXP3IgmGqqKU",
        "outputId": "211c8373-03a6-4e48-dfed-f7e022a90642"
      },
      "execution_count": null,
      "outputs": [
        {
          "output_type": "stream",
          "name": "stdout",
          "text": [
            "RangeIndex(start=0, stop=10, step=1)\n"
          ]
        }
      ]
    },
    {
      "cell_type": "markdown",
      "source": [
        "To return the summary of the data frame\n"
      ],
      "metadata": {
        "id": "EXglb5r_qnIi"
      }
    },
    {
      "cell_type": "code",
      "source": [
        "new_df  = df.info()\n",
        "print(new_df)\n"
      ],
      "metadata": {
        "colab": {
          "base_uri": "https://localhost:8080/"
        },
        "id": "wt8FEUBorNCv",
        "outputId": "f03470d3-997c-460f-d66c-167efe3ba323"
      },
      "execution_count": null,
      "outputs": [
        {
          "output_type": "stream",
          "name": "stdout",
          "text": [
            "<class 'pandas.core.frame.DataFrame'>\n",
            "RangeIndex: 10 entries, 0 to 9\n",
            "Data columns (total 7 columns):\n",
            " #   Column           Non-Null Count  Dtype  \n",
            "---  ------           --------------  -----  \n",
            " 0   CustomerID       10 non-null     int64  \n",
            " 1   Name             10 non-null     object \n",
            " 2   Age              8 non-null      float64\n",
            " 3   Gender           10 non-null     object \n",
            " 4   Purchase_Amount  9 non-null      float64\n",
            " 5   Purchase_Date    10 non-null     object \n",
            " 6   City             10 non-null     object \n",
            "dtypes: float64(2), int64(1), object(4)\n",
            "memory usage: 692.0+ bytes\n",
            "None\n"
          ]
        }
      ]
    },
    {
      "cell_type": "markdown",
      "source": [
        "\n",
        "To return statistical summary"
      ],
      "metadata": {
        "id": "fIA_NUaQoi31"
      }
    },
    {
      "cell_type": "code",
      "source": [
        "new_df  = df.describe()\n",
        "print(new_df)\n"
      ],
      "metadata": {
        "colab": {
          "base_uri": "https://localhost:8080/"
        },
        "id": "_ENPb7gprmog",
        "outputId": "4e17f3a9-cab8-472a-a421-26fb7cf86638"
      },
      "execution_count": null,
      "outputs": [
        {
          "output_type": "stream",
          "name": "stdout",
          "text": [
            "       CustomerID        Age  Purchase_Amount\n",
            "count    10.00000   8.000000         9.000000\n",
            "mean   1005.50000  38.500000      9746.666667\n",
            "std       3.02765  14.677485     15882.902757\n",
            "min    1001.00000  22.000000       520.000000\n",
            "25%    1003.25000  29.000000      2500.000000\n",
            "50%    1005.50000  33.000000      3700.000000\n",
            "75%    1007.75000  45.250000      8700.000000\n",
            "max    1010.00000  65.000000     51000.000000\n"
          ]
        }
      ]
    },
    {
      "cell_type": "markdown",
      "source": [
        "To return the data types of each colum"
      ],
      "metadata": {
        "id": "LXIm-Seuoi7L"
      }
    },
    {
      "cell_type": "code",
      "source": [
        "new_df = df.dtypes\n",
        "print(new_df)\n",
        "\n"
      ],
      "metadata": {
        "colab": {
          "base_uri": "https://localhost:8080/"
        },
        "id": "v-QhQ2GZr5Wi",
        "outputId": "3035ff5f-a8b7-46b3-c24b-8ea1a163e782"
      },
      "execution_count": null,
      "outputs": [
        {
          "output_type": "stream",
          "name": "stdout",
          "text": [
            "CustomerID           int64\n",
            "Name                object\n",
            "Age                float64\n",
            "Gender              object\n",
            "Purchase_Amount    float64\n",
            "Purchase_Date       object\n",
            "City                object\n",
            "dtype: object\n"
          ]
        }
      ]
    },
    {
      "cell_type": "markdown",
      "source": [
        "How many missing values are present in each column?\n"
      ],
      "metadata": {
        "id": "quiTsYIGUSPG"
      }
    },
    {
      "cell_type": "code",
      "source": [
        "print(df.isnull().sum().to_string())\n"
      ],
      "metadata": {
        "colab": {
          "base_uri": "https://localhost:8080/"
        },
        "id": "XT_-ZFyxURt_",
        "outputId": "6a29d116-c531-406a-f7d1-9e53e7860878"
      },
      "execution_count": null,
      "outputs": [
        {
          "output_type": "stream",
          "name": "stdout",
          "text": [
            "CustomerID         0\n",
            "Name               0\n",
            "Age                2\n",
            "Gender             0\n",
            "Purchase_Amount    1\n",
            "Purchase_Date      0\n",
            "City               0\n"
          ]
        }
      ]
    },
    {
      "cell_type": "code",
      "source": [
        "#another method\n",
        "print(df.isna().sum().to_string())"
      ],
      "metadata": {
        "colab": {
          "base_uri": "https://localhost:8080/"
        },
        "id": "Z6KN1dO3ckgE",
        "outputId": "ce26d37a-3d06-473f-b95b-41f3fe48c56e"
      },
      "execution_count": null,
      "outputs": [
        {
          "output_type": "stream",
          "name": "stdout",
          "text": [
            "CustomerID         0\n",
            "Name               0\n",
            "Age                2\n",
            "Gender             0\n",
            "Purchase_Amount    1\n",
            "Purchase_Date      0\n",
            "City               0\n"
          ]
        }
      ]
    },
    {
      "cell_type": "markdown",
      "source": [
        "Replace the missing Age values with the mean age.\n"
      ],
      "metadata": {
        "id": "ssnDk0pwXzov"
      }
    },
    {
      "cell_type": "code",
      "source": [
        "x = df[\"Age\"].mean()\n",
        "df.fillna({\"Age\":x},inplace = True)\n",
        "print(df.to_string())"
      ],
      "metadata": {
        "colab": {
          "base_uri": "https://localhost:8080/"
        },
        "id": "_CGD0GJzVT8A",
        "outputId": "5c26b7fe-10cc-4313-e086-26d6409ad2c8"
      },
      "execution_count": null,
      "outputs": [
        {
          "output_type": "stream",
          "name": "stdout",
          "text": [
            "   CustomerID            Name   Age  Gender  Purchase_Amount Purchase_Date           City\n",
            "0        1001   Alice Johnson  29.0  Female           2500.0    2024-03-21       New York\n",
            "1        1002       Bob Smith  35.0    Male              NaN    2024-05-14  San Francisco\n",
            "2        1003  Carol Peterson  38.5  Female           3700.0    2024-06-11       new york\n",
            "3        1004    Daniel Craig  42.0    Male          12000.0    2024-02-28        Chicago\n",
            "4        1005    Eve Anderson  22.0  Female           3100.0       missing  san francisco\n",
            "5        1006    Frank Wright  55.0    Male            520.0    2024-04-01        Chicago\n",
            "6        1007       Grace Lee  31.0  Female           4400.0    2024-03-05       New York\n",
            "7        1008     Henry Davis  29.0    Male           8700.0    2024-05-22        Chicago\n",
            "8        1009    Isaac Newton  65.0    Male          51000.0    2024-01-01       NEW YORK\n",
            "9        1010    Jenny Thomas  38.5  Female           1800.0    2024-04-12  San Francisco\n"
          ]
        }
      ]
    },
    {
      "cell_type": "markdown",
      "source": [
        "Drop rows where Purchase_Amount is missing.\n"
      ],
      "metadata": {
        "id": "ARLnG8z2gyz9"
      }
    },
    {
      "cell_type": "code",
      "source": [
        "df.dropna(subset= ['Purchase_Amount'],inplace = True)\n",
        "print(df.to_string())"
      ],
      "metadata": {
        "colab": {
          "base_uri": "https://localhost:8080/"
        },
        "id": "5hNIVb4yfFHc",
        "outputId": "0b4d42b9-c9d6-4eb0-8c91-d072e5544a1e"
      },
      "execution_count": null,
      "outputs": [
        {
          "output_type": "stream",
          "name": "stdout",
          "text": [
            "   CustomerID            Name   Age  Gender  Purchase_Amount Purchase_Date           City\n",
            "0        1001   Alice Johnson  29.0  Female           2500.0    2024-03-21       New York\n",
            "2        1003  Carol Peterson  38.5  Female           3700.0    2024-06-11       new york\n",
            "3        1004    Daniel Craig  42.0    Male          12000.0    2024-02-28        Chicago\n",
            "4        1005    Eve Anderson  22.0  Female           3100.0       missing  san francisco\n",
            "5        1006    Frank Wright  55.0    Male            520.0    2024-04-01        Chicago\n",
            "6        1007       Grace Lee  31.0  Female           4400.0    2024-03-05       New York\n",
            "7        1008     Henry Davis  29.0    Male           8700.0    2024-05-22        Chicago\n",
            "8        1009    Isaac Newton  65.0    Male          51000.0    2024-01-01       NEW YORK\n",
            "9        1010    Jenny Thomas  38.5  Female           1800.0    2024-04-12  San Francisco\n"
          ]
        }
      ]
    },
    {
      "cell_type": "markdown",
      "source": [
        "Replace \"missing\" in Purchase_Date with a NaT (missing datetime).\n"
      ],
      "metadata": {
        "id": "BTVjighzh4KV"
      }
    },
    {
      "cell_type": "code",
      "source": [
        "df.loc[4,'Purchase_Date']='NaT'\n",
        "# df.loc[4,'Purchase_Date']= pd.NaT #can also use like this\n",
        "print(df.to_string())"
      ],
      "metadata": {
        "colab": {
          "base_uri": "https://localhost:8080/"
        },
        "id": "ioFkaue1h4ds",
        "outputId": "eccd9e9b-ebf2-4a75-d644-e027e4b039c5"
      },
      "execution_count": null,
      "outputs": [
        {
          "output_type": "stream",
          "name": "stdout",
          "text": [
            "   CustomerID            Name   Age  Gender  Purchase_Amount Purchase_Date           City\n",
            "0        1001   Alice Johnson  29.0  Female           2500.0    2024-03-21       New York\n",
            "2        1003  Carol Peterson  38.5  Female           3700.0    2024-06-11       new york\n",
            "3        1004    Daniel Craig  42.0    Male          12000.0    2024-02-28        Chicago\n",
            "4        1005    Eve Anderson  22.0  Female           3100.0           NaT  san francisco\n",
            "5        1006    Frank Wright  55.0    Male            520.0    2024-04-01        Chicago\n",
            "6        1007       Grace Lee  31.0  Female           4400.0    2024-03-05       New York\n",
            "7        1008     Henry Davis  29.0    Male           8700.0    2024-05-22        Chicago\n",
            "8        1009    Isaac Newton  65.0    Male          51000.0    2024-01-01       NEW YORK\n",
            "9        1010    Jenny Thomas  38.5  Female           1800.0    2024-04-12  San Francisco\n"
          ]
        }
      ]
    },
    {
      "cell_type": "markdown",
      "source": [
        "Standardize the City column (e.g., capitalize properly: \"new york\" → \"New York\").\n"
      ],
      "metadata": {
        "id": "M2sHlyV_D4bg"
      }
    },
    {
      "cell_type": "code",
      "source": [
        "df['City'] = df['City'].str.title()\n",
        "print(df.to_string())"
      ],
      "metadata": {
        "id": "EvSuNPXKeSQu",
        "colab": {
          "base_uri": "https://localhost:8080/"
        },
        "outputId": "de311537-2588-47f5-f764-8211c2e49eec"
      },
      "execution_count": null,
      "outputs": [
        {
          "output_type": "stream",
          "name": "stdout",
          "text": [
            "   CustomerID            Name   Age  Gender  Purchase_Amount Purchase_Date           City\n",
            "0        1001   Alice Johnson  29.0  Female           2500.0    2024-03-21       New York\n",
            "2        1003  Carol Peterson  38.5  Female           3700.0    2024-06-11       New York\n",
            "3        1004    Daniel Craig  42.0    Male          12000.0    2024-02-28        Chicago\n",
            "4        1005    Eve Anderson  22.0  Female           3100.0           NaT  San Francisco\n",
            "5        1006    Frank Wright  55.0    Male            520.0    2024-04-01        Chicago\n",
            "6        1007       Grace Lee  31.0  Female           4400.0    2024-03-05       New York\n",
            "7        1008     Henry Davis  29.0    Male           8700.0    2024-05-22        Chicago\n",
            "8        1009    Isaac Newton  65.0    Male          51000.0    2024-01-01       New York\n",
            "9        1010    Jenny Thomas  38.5  Female           1800.0    2024-04-12  San Francisco\n"
          ]
        }
      ]
    },
    {
      "cell_type": "markdown",
      "source": [
        "Convert Purchase_Date to datetime format.\n"
      ],
      "metadata": {
        "id": "67QsH9BGE1w5"
      }
    },
    {
      "cell_type": "code",
      "source": [
        "# Step 2: Convert 'Purchase_Date' to datetime safely (handle errors)\n",
        "df['Purchase_Date'] = pd.to_datetime(df['Purchase_Date'], format='mixed', errors='coerce')\n",
        "\n",
        "# Step 3: Print rows with invalid Purchase_Date (became NaT)\n",
        "print(\"Invalid rows:\")\n",
        "print(df[df['Purchase_Date'].isna()])\n",
        "\n",
        "# Step 5: Fill remaining NaT with a default fallback date\n",
        "df['Purchase_Date'] = df['Purchase_Date'].fillna(pd.Timestamp('2000-01-01'))\n",
        "\n",
        "# Step 6: Print the final cleaned DataFrame\n",
        "print(\"\\nFinal Cleaned Data:\")\n",
        "print(df.to_string())\n"
      ],
      "metadata": {
        "id": "h4sNjH9jkMuP",
        "colab": {
          "base_uri": "https://localhost:8080/"
        },
        "outputId": "1e6f0368-1bc1-40d6-b4d6-6cfcb18dcc6d"
      },
      "execution_count": null,
      "outputs": [
        {
          "output_type": "stream",
          "name": "stdout",
          "text": [
            "Invalid rows:\n",
            "   CustomerID          Name   Age  Gender  Purchase_Amount Purchase_Date  \\\n",
            "4        1005  Eve Anderson  22.0  Female           3100.0           NaT   \n",
            "\n",
            "            City  \n",
            "4  San Francisco  \n",
            "\n",
            "Final Cleaned Data:\n",
            "   CustomerID            Name   Age  Gender  Purchase_Amount Purchase_Date           City\n",
            "0        1001   Alice Johnson  29.0  Female           2500.0    2024-03-21       New York\n",
            "2        1003  Carol Peterson  38.5  Female           3700.0    2024-06-11       New York\n",
            "3        1004    Daniel Craig  42.0    Male          12000.0    2024-02-28        Chicago\n",
            "4        1005    Eve Anderson  22.0  Female           3100.0    2000-01-01  San Francisco\n",
            "5        1006    Frank Wright  55.0    Male            520.0    2024-04-01        Chicago\n",
            "6        1007       Grace Lee  31.0  Female           4400.0    2024-03-05       New York\n",
            "7        1008     Henry Davis  29.0    Male           8700.0    2024-05-22        Chicago\n",
            "8        1009    Isaac Newton  65.0    Male          51000.0    2024-01-01       New York\n",
            "9        1010    Jenny Thomas  38.5  Female           1800.0    2024-04-12  San Francisco\n"
          ]
        }
      ]
    },
    {
      "cell_type": "markdown",
      "source": [
        "**df['Purchase_Date']**\tAccesses the 'Purchase_Date' column of the DataFrame.\n",
        "\n",
        "**isna()**\tReturns a Boolean Series: True if value is NaT, False otherwise\n",
        "\n",
        "\n",
        "**df[ ... ]**\tFilters the DataFrame to include only rows where the condition is True"
      ],
      "metadata": {
        "id": "TVrWw9Kf8qJi"
      }
    },
    {
      "cell_type": "markdown",
      "source": [
        "Create a new column Age_Group as:\n",
        "<30: \"Young\"\n",
        "30-50: \"Adult\"\n",
        ">50: \"Senior\"\n"
      ],
      "metadata": {
        "id": "z5RUXZO1Rvhz"
      }
    },
    {
      "cell_type": "code",
      "source": [
        "\n",
        "# ✅ Step 2: Convert 'Purchase_Date' to datetime\n",
        "df['Purchase_Date'] = pd.to_datetime(df['Purchase_Date'], errors='coerce')\n",
        "# df['Purchase_Date'] = df['Purchase_Date'].fillna(pd.Timestamp())\n",
        "# ✅ Step 3: Create Purchase_Month column\n",
        "df[\"Purchase_Month\"] = df[\"Purchase_Date\"].dt.month_name()\n",
        "\n",
        "# Step 4: Define function to assign Age Group\n",
        "def Age_group(age):\n",
        "    if age < 30:\n",
        "        return \"Young\"\n",
        "    elif age <= 50:\n",
        "        return \"Adult\"\n",
        "    else:\n",
        "        return \"Senior\"\n",
        "\n",
        "# Step 5: Apply the function to create Age_Group column\n",
        "df[\"Age_Group\"] = df[\"Age\"].apply(Age_group)\n",
        "\n",
        "# ✅ Step 6: Create High_Spender column\n",
        "df[\"High_Spender\"] = df[\"Purchase_Amount\"] > 10000\n",
        "\n",
        "print(df.to_string())\n"
      ],
      "metadata": {
        "id": "3go4L6ZxRvvH",
        "colab": {
          "base_uri": "https://localhost:8080/"
        },
        "outputId": "171f09d0-6a00-4a79-e004-548b9e4ed27a"
      },
      "execution_count": null,
      "outputs": [
        {
          "output_type": "stream",
          "name": "stdout",
          "text": [
            "   CustomerID            Name   Age  Gender  Purchase_Amount Purchase_Date           City Purchase_Month Age_Group  High_Spender\n",
            "0        1001   Alice Johnson  29.0  Female           2500.0    2024-03-21       New York          March     Young         False\n",
            "2        1003  Carol Peterson  38.5  Female           3700.0    2024-06-11       New York           June     Adult         False\n",
            "3        1004    Daniel Craig  42.0    Male          12000.0    2024-02-28        Chicago       February     Adult          True\n",
            "4        1005    Eve Anderson  22.0  Female           3100.0    2000-01-01  San Francisco        January     Young         False\n",
            "5        1006    Frank Wright  55.0    Male            520.0    2024-04-01        Chicago          April    Senior         False\n",
            "6        1007       Grace Lee  31.0  Female           4400.0    2024-03-05       New York          March     Adult         False\n",
            "7        1008     Henry Davis  29.0    Male           8700.0    2024-05-22        Chicago            May     Young         False\n",
            "8        1009    Isaac Newton  65.0    Male          51000.0    2024-01-01       New York        January    Senior          True\n",
            "9        1010    Jenny Thomas  38.5  Female           1800.0    2024-04-12  San Francisco          April     Adult         False\n"
          ]
        }
      ]
    },
    {
      "cell_type": "markdown",
      "source": [
        "Find the average Purchase_Amount by City.group by ,mean\n"
      ],
      "metadata": {
        "id": "ntmMk60dIjm7"
      }
    },
    {
      "cell_type": "code",
      "source": [
        "df.groupby('City')['Purchase_Amount'].mean().round(2)"
      ],
      "metadata": {
        "colab": {
          "base_uri": "https://localhost:8080/",
          "height": 209
        },
        "id": "AidKxk---ueO",
        "outputId": "8ddc8184-01e1-425b-bbc2-5fcbd17dcd30"
      },
      "execution_count": null,
      "outputs": [
        {
          "output_type": "execute_result",
          "data": {
            "text/plain": [
              "City\n",
              "Chicago           7073.33\n",
              "New York         15400.00\n",
              "San Francisco     2450.00\n",
              "Name: Purchase_Amount, dtype: float64"
            ],
            "text/html": [
              "<div>\n",
              "<style scoped>\n",
              "    .dataframe tbody tr th:only-of-type {\n",
              "        vertical-align: middle;\n",
              "    }\n",
              "\n",
              "    .dataframe tbody tr th {\n",
              "        vertical-align: top;\n",
              "    }\n",
              "\n",
              "    .dataframe thead th {\n",
              "        text-align: right;\n",
              "    }\n",
              "</style>\n",
              "<table border=\"1\" class=\"dataframe\">\n",
              "  <thead>\n",
              "    <tr style=\"text-align: right;\">\n",
              "      <th></th>\n",
              "      <th>Purchase_Amount</th>\n",
              "    </tr>\n",
              "    <tr>\n",
              "      <th>City</th>\n",
              "      <th></th>\n",
              "    </tr>\n",
              "  </thead>\n",
              "  <tbody>\n",
              "    <tr>\n",
              "      <th>Chicago</th>\n",
              "      <td>7073.33</td>\n",
              "    </tr>\n",
              "    <tr>\n",
              "      <th>New York</th>\n",
              "      <td>15400.00</td>\n",
              "    </tr>\n",
              "    <tr>\n",
              "      <th>San Francisco</th>\n",
              "      <td>2450.00</td>\n",
              "    </tr>\n",
              "  </tbody>\n",
              "</table>\n",
              "</div><br><label><b>dtype:</b> float64</label>"
            ]
          },
          "metadata": {},
          "execution_count": 25
        }
      ]
    },
    {
      "cell_type": "markdown",
      "source": [
        "Find the number of customers by Gender. value count\n"
      ],
      "metadata": {
        "id": "BESJzkTCIm_K"
      }
    },
    {
      "cell_type": "code",
      "source": [
        "df['Gender'].value_counts()"
      ],
      "metadata": {
        "colab": {
          "base_uri": "https://localhost:8080/",
          "height": 178
        },
        "id": "2TqlUE0zInOP",
        "outputId": "524d7a70-c14a-4e37-ed09-fddb014a2285"
      },
      "execution_count": null,
      "outputs": [
        {
          "output_type": "execute_result",
          "data": {
            "text/plain": [
              "Gender\n",
              "Female    5\n",
              "Male      4\n",
              "Name: count, dtype: int64"
            ],
            "text/html": [
              "<div>\n",
              "<style scoped>\n",
              "    .dataframe tbody tr th:only-of-type {\n",
              "        vertical-align: middle;\n",
              "    }\n",
              "\n",
              "    .dataframe tbody tr th {\n",
              "        vertical-align: top;\n",
              "    }\n",
              "\n",
              "    .dataframe thead th {\n",
              "        text-align: right;\n",
              "    }\n",
              "</style>\n",
              "<table border=\"1\" class=\"dataframe\">\n",
              "  <thead>\n",
              "    <tr style=\"text-align: right;\">\n",
              "      <th></th>\n",
              "      <th>count</th>\n",
              "    </tr>\n",
              "    <tr>\n",
              "      <th>Gender</th>\n",
              "      <th></th>\n",
              "    </tr>\n",
              "  </thead>\n",
              "  <tbody>\n",
              "    <tr>\n",
              "      <th>Female</th>\n",
              "      <td>5</td>\n",
              "    </tr>\n",
              "    <tr>\n",
              "      <th>Male</th>\n",
              "      <td>4</td>\n",
              "    </tr>\n",
              "  </tbody>\n",
              "</table>\n",
              "</div><br><label><b>dtype:</b> int64</label>"
            ]
          },
          "metadata": {},
          "execution_count": 26
        }
      ]
    },
    {
      "cell_type": "markdown",
      "source": [
        "Get total purchase per month.\n"
      ],
      "metadata": {
        "id": "HhwWHjtCInl_"
      }
    },
    {
      "cell_type": "code",
      "source": [
        "df.groupby('Purchase_Month')['Purchase_Amount'].sum()\n"
      ],
      "metadata": {
        "colab": {
          "base_uri": "https://localhost:8080/",
          "height": 303
        },
        "id": "gqTEUD9pInza",
        "outputId": "18085192-22d2-42b9-af71-43f5cc8bb40a"
      },
      "execution_count": null,
      "outputs": [
        {
          "output_type": "execute_result",
          "data": {
            "text/plain": [
              "Purchase_Month\n",
              "April        2320.0\n",
              "February    12000.0\n",
              "January     54100.0\n",
              "June         3700.0\n",
              "March        6900.0\n",
              "May          8700.0\n",
              "Name: Purchase_Amount, dtype: float64"
            ],
            "text/html": [
              "<div>\n",
              "<style scoped>\n",
              "    .dataframe tbody tr th:only-of-type {\n",
              "        vertical-align: middle;\n",
              "    }\n",
              "\n",
              "    .dataframe tbody tr th {\n",
              "        vertical-align: top;\n",
              "    }\n",
              "\n",
              "    .dataframe thead th {\n",
              "        text-align: right;\n",
              "    }\n",
              "</style>\n",
              "<table border=\"1\" class=\"dataframe\">\n",
              "  <thead>\n",
              "    <tr style=\"text-align: right;\">\n",
              "      <th></th>\n",
              "      <th>Purchase_Amount</th>\n",
              "    </tr>\n",
              "    <tr>\n",
              "      <th>Purchase_Month</th>\n",
              "      <th></th>\n",
              "    </tr>\n",
              "  </thead>\n",
              "  <tbody>\n",
              "    <tr>\n",
              "      <th>April</th>\n",
              "      <td>2320.0</td>\n",
              "    </tr>\n",
              "    <tr>\n",
              "      <th>February</th>\n",
              "      <td>12000.0</td>\n",
              "    </tr>\n",
              "    <tr>\n",
              "      <th>January</th>\n",
              "      <td>54100.0</td>\n",
              "    </tr>\n",
              "    <tr>\n",
              "      <th>June</th>\n",
              "      <td>3700.0</td>\n",
              "    </tr>\n",
              "    <tr>\n",
              "      <th>March</th>\n",
              "      <td>6900.0</td>\n",
              "    </tr>\n",
              "    <tr>\n",
              "      <th>May</th>\n",
              "      <td>8700.0</td>\n",
              "    </tr>\n",
              "  </tbody>\n",
              "</table>\n",
              "</div><br><label><b>dtype:</b> float64</label>"
            ]
          },
          "metadata": {},
          "execution_count": 27
        }
      ]
    },
    {
      "cell_type": "markdown",
      "source": [
        "Get the top 3 cities with the highest average purchase amount.\n"
      ],
      "metadata": {
        "id": "GLoeYlblIoCK"
      }
    },
    {
      "cell_type": "code",
      "source": [
        "df.groupby('City')['Purchase_Amount'].mean().sort_values(ascending = False).head(3)"
      ],
      "metadata": {
        "colab": {
          "base_uri": "https://localhost:8080/",
          "height": 209
        },
        "id": "_cHSSpG5IoVj",
        "outputId": "9c34f044-4efe-485f-a31b-fc6258bed39e"
      },
      "execution_count": null,
      "outputs": [
        {
          "output_type": "execute_result",
          "data": {
            "text/plain": [
              "City\n",
              "New York         15400.000000\n",
              "Chicago           7073.333333\n",
              "San Francisco     2450.000000\n",
              "Name: Purchase_Amount, dtype: float64"
            ],
            "text/html": [
              "<div>\n",
              "<style scoped>\n",
              "    .dataframe tbody tr th:only-of-type {\n",
              "        vertical-align: middle;\n",
              "    }\n",
              "\n",
              "    .dataframe tbody tr th {\n",
              "        vertical-align: top;\n",
              "    }\n",
              "\n",
              "    .dataframe thead th {\n",
              "        text-align: right;\n",
              "    }\n",
              "</style>\n",
              "<table border=\"1\" class=\"dataframe\">\n",
              "  <thead>\n",
              "    <tr style=\"text-align: right;\">\n",
              "      <th></th>\n",
              "      <th>Purchase_Amount</th>\n",
              "    </tr>\n",
              "    <tr>\n",
              "      <th>City</th>\n",
              "      <th></th>\n",
              "    </tr>\n",
              "  </thead>\n",
              "  <tbody>\n",
              "    <tr>\n",
              "      <th>New York</th>\n",
              "      <td>15400.000000</td>\n",
              "    </tr>\n",
              "    <tr>\n",
              "      <th>Chicago</th>\n",
              "      <td>7073.333333</td>\n",
              "    </tr>\n",
              "    <tr>\n",
              "      <th>San Francisco</th>\n",
              "      <td>2450.000000</td>\n",
              "    </tr>\n",
              "  </tbody>\n",
              "</table>\n",
              "</div><br><label><b>dtype:</b> float64</label>"
            ]
          },
          "metadata": {},
          "execution_count": 28
        }
      ]
    },
    {
      "cell_type": "markdown",
      "source": [
        "Sort customers by highest Purchase_Amount.\n"
      ],
      "metadata": {
        "id": "D-UzZ1DaIyJB"
      }
    },
    {
      "cell_type": "code",
      "source": [
        "df.groupby(\"Name\")[\"Purchase_Amount\"].sum().sort_values(ascending = False)"
      ],
      "metadata": {
        "colab": {
          "base_uri": "https://localhost:8080/",
          "height": 397
        },
        "id": "ohvrDmRTIyX3",
        "outputId": "487c438e-34d2-4b03-97d3-5d0ea1408bc4"
      },
      "execution_count": null,
      "outputs": [
        {
          "output_type": "execute_result",
          "data": {
            "text/plain": [
              "Name\n",
              "Isaac Newton      51000.0\n",
              "Daniel Craig      12000.0\n",
              "Henry Davis        8700.0\n",
              "Grace Lee          4400.0\n",
              "Carol Peterson     3700.0\n",
              "Eve Anderson       3100.0\n",
              "Alice Johnson      2500.0\n",
              "Jenny Thomas       1800.0\n",
              "Frank Wright        520.0\n",
              "Name: Purchase_Amount, dtype: float64"
            ],
            "text/html": [
              "<div>\n",
              "<style scoped>\n",
              "    .dataframe tbody tr th:only-of-type {\n",
              "        vertical-align: middle;\n",
              "    }\n",
              "\n",
              "    .dataframe tbody tr th {\n",
              "        vertical-align: top;\n",
              "    }\n",
              "\n",
              "    .dataframe thead th {\n",
              "        text-align: right;\n",
              "    }\n",
              "</style>\n",
              "<table border=\"1\" class=\"dataframe\">\n",
              "  <thead>\n",
              "    <tr style=\"text-align: right;\">\n",
              "      <th></th>\n",
              "      <th>Purchase_Amount</th>\n",
              "    </tr>\n",
              "    <tr>\n",
              "      <th>Name</th>\n",
              "      <th></th>\n",
              "    </tr>\n",
              "  </thead>\n",
              "  <tbody>\n",
              "    <tr>\n",
              "      <th>Isaac Newton</th>\n",
              "      <td>51000.0</td>\n",
              "    </tr>\n",
              "    <tr>\n",
              "      <th>Daniel Craig</th>\n",
              "      <td>12000.0</td>\n",
              "    </tr>\n",
              "    <tr>\n",
              "      <th>Henry Davis</th>\n",
              "      <td>8700.0</td>\n",
              "    </tr>\n",
              "    <tr>\n",
              "      <th>Grace Lee</th>\n",
              "      <td>4400.0</td>\n",
              "    </tr>\n",
              "    <tr>\n",
              "      <th>Carol Peterson</th>\n",
              "      <td>3700.0</td>\n",
              "    </tr>\n",
              "    <tr>\n",
              "      <th>Eve Anderson</th>\n",
              "      <td>3100.0</td>\n",
              "    </tr>\n",
              "    <tr>\n",
              "      <th>Alice Johnson</th>\n",
              "      <td>2500.0</td>\n",
              "    </tr>\n",
              "    <tr>\n",
              "      <th>Jenny Thomas</th>\n",
              "      <td>1800.0</td>\n",
              "    </tr>\n",
              "    <tr>\n",
              "      <th>Frank Wright</th>\n",
              "      <td>520.0</td>\n",
              "    </tr>\n",
              "  </tbody>\n",
              "</table>\n",
              "</div><br><label><b>dtype:</b> float64</label>"
            ]
          },
          "metadata": {},
          "execution_count": 29
        }
      ]
    },
    {
      "cell_type": "markdown",
      "source": [
        "Count number of High_Spender customers in each city.\n"
      ],
      "metadata": {
        "id": "tQoit57RI2Qp"
      }
    },
    {
      "cell_type": "code",
      "source": [
        "df[df[\"High_Spender\"]].groupby(\"City\")[\"CustomerID\"].count()"
      ],
      "metadata": {
        "colab": {
          "base_uri": "https://localhost:8080/",
          "height": 178
        },
        "id": "E0YAr5n8I2ms",
        "outputId": "dacd0120-a18c-40c5-c388-b4b45573794a"
      },
      "execution_count": null,
      "outputs": [
        {
          "output_type": "execute_result",
          "data": {
            "text/plain": [
              "City\n",
              "Chicago     1\n",
              "New York    1\n",
              "Name: CustomerID, dtype: int64"
            ],
            "text/html": [
              "<div>\n",
              "<style scoped>\n",
              "    .dataframe tbody tr th:only-of-type {\n",
              "        vertical-align: middle;\n",
              "    }\n",
              "\n",
              "    .dataframe tbody tr th {\n",
              "        vertical-align: top;\n",
              "    }\n",
              "\n",
              "    .dataframe thead th {\n",
              "        text-align: right;\n",
              "    }\n",
              "</style>\n",
              "<table border=\"1\" class=\"dataframe\">\n",
              "  <thead>\n",
              "    <tr style=\"text-align: right;\">\n",
              "      <th></th>\n",
              "      <th>CustomerID</th>\n",
              "    </tr>\n",
              "    <tr>\n",
              "      <th>City</th>\n",
              "      <th></th>\n",
              "    </tr>\n",
              "  </thead>\n",
              "  <tbody>\n",
              "    <tr>\n",
              "      <th>Chicago</th>\n",
              "      <td>1</td>\n",
              "    </tr>\n",
              "    <tr>\n",
              "      <th>New York</th>\n",
              "      <td>1</td>\n",
              "    </tr>\n",
              "  </tbody>\n",
              "</table>\n",
              "</div><br><label><b>dtype:</b> int64</label>"
            ]
          },
          "metadata": {},
          "execution_count": 30
        }
      ]
    },
    {
      "cell_type": "markdown",
      "source": [
        "List all customers from “New York” regardless of how it's written (e.g., \"new york\", \"NEW YORK\")."
      ],
      "metadata": {
        "id": "ZHmGbL3bkvXm"
      }
    },
    {
      "cell_type": "code",
      "source": [
        "new_df = df[df['City'].str.lower().isin(['new york'])]\n",
        "print(new_df.to_string())\n",
        "# .str.lower().isin(['new york'])] -> Converts all city names to lowercase."
      ],
      "metadata": {
        "colab": {
          "base_uri": "https://localhost:8080/"
        },
        "id": "XIKnPGuekvlm",
        "outputId": "33cc7a3c-ff87-4d43-e867-dcdce66bd9ef"
      },
      "execution_count": null,
      "outputs": [
        {
          "output_type": "stream",
          "name": "stdout",
          "text": [
            "   CustomerID            Name   Age  Gender  Purchase_Amount Purchase_Date      City Purchase_Month Age_Group  High_Spender\n",
            "0        1001   Alice Johnson  29.0  Female           2500.0    2024-03-21  New York          March     Young         False\n",
            "2        1003  Carol Peterson  38.5  Female           3700.0    2024-06-11  New York           June     Adult         False\n",
            "6        1007       Grace Lee  31.0  Female           4400.0    2024-03-05  New York          March     Adult         False\n",
            "8        1009    Isaac Newton  65.0    Male          51000.0    2024-01-01  New York        January    Senior          True\n"
          ]
        }
      ]
    },
    {
      "cell_type": "markdown",
      "source": [
        "Find all customers who are marked as High_Spender and also belong to the “Senior” age group."
      ],
      "metadata": {
        "id": "idBLYqldkvz3"
      }
    },
    {
      "cell_type": "code",
      "source": [
        "new_df ="
      ],
      "metadata": {
        "colab": {
          "base_uri": "https://localhost:8080/",
          "height": 106
        },
        "id": "m4CAoIaGkwA9",
        "outputId": "6401b4e5-a2f8-463d-b1a5-b3260e229bec"
      },
      "execution_count": null,
      "outputs": [
        {
          "output_type": "error",
          "ename": "SyntaxError",
          "evalue": "invalid syntax (ipython-input-3010963536.py, line 1)",
          "traceback": [
            "\u001b[0;36m  File \u001b[0;32m\"/tmp/ipython-input-3010963536.py\"\u001b[0;36m, line \u001b[0;32m1\u001b[0m\n\u001b[0;31m    new_df =\u001b[0m\n\u001b[0m             ^\u001b[0m\n\u001b[0;31mSyntaxError\u001b[0m\u001b[0;31m:\u001b[0m invalid syntax\n"
          ]
        }
      ]
    },
    {
      "cell_type": "markdown",
      "source": [
        "How many customers have missing (NaN) values in the Age or Purchase_Amount columns?"
      ],
      "metadata": {
        "id": "ku7ugsBWkwPw"
      }
    },
    {
      "cell_type": "code",
      "source": [
        "new_df = df[['Age','Purchase_Amount']].isnull()\n",
        "print(new_df.to_string())\n",
        "\n",
        "\n",
        "# df[['Age', 'Purchase_Amount']] selects only those two columns.\n",
        "# True for missing (NaN) values and False"
      ],
      "metadata": {
        "colab": {
          "base_uri": "https://localhost:8080/"
        },
        "id": "MRKDuKCHkwcE",
        "outputId": "aee68bb8-4726-4819-fb44-d8594ce88567"
      },
      "execution_count": null,
      "outputs": [
        {
          "output_type": "stream",
          "name": "stdout",
          "text": [
            "     Age  Purchase_Amount\n",
            "0  False            False\n",
            "2  False            False\n",
            "3  False            False\n",
            "4  False            False\n",
            "5  False            False\n",
            "6  False            False\n",
            "7  False            False\n",
            "8  False            False\n",
            "9  False            False\n"
          ]
        }
      ]
    },
    {
      "cell_type": "markdown",
      "source": [
        "Find the total purchase amount grouped by City."
      ],
      "metadata": {
        "id": "JuxH0DEXkx9L"
      }
    },
    {
      "cell_type": "code",
      "source": [
        "new_df = df.groupby(\"City\")[\"Purchase_Amount\"].sum()\n",
        "print(new_df.to_string())\n",
        "print(df.to_string())"
      ],
      "metadata": {
        "colab": {
          "base_uri": "https://localhost:8080/"
        },
        "id": "kkHWtOBpxViG",
        "outputId": "d6dad95e-21ef-49b7-9169-f72be6ddcce1"
      },
      "execution_count": null,
      "outputs": [
        {
          "output_type": "stream",
          "name": "stdout",
          "text": [
            "City\n",
            "Chicago          21220.0\n",
            "New York         61600.0\n",
            "San Francisco     4900.0\n",
            "   CustomerID            Name   Age  Gender  Purchase_Amount Purchase_Date           City Purchase_Month Age_Group  High_Spender\n",
            "0        1001   Alice Johnson  29.0  Female           2500.0    2024-03-21       New York          March     Young         False\n",
            "2        1003  Carol Peterson  38.5  Female           3700.0    2024-06-11       New York           June     Adult         False\n",
            "3        1004    Daniel Craig  42.0    Male          12000.0    2024-02-28        Chicago       February     Adult          True\n",
            "4        1005    Eve Anderson  22.0  Female           3100.0    2000-01-01  San Francisco        January     Young         False\n",
            "5        1006    Frank Wright  55.0    Male            520.0    2024-04-01        Chicago          April    Senior         False\n",
            "6        1007       Grace Lee  31.0  Female           4400.0    2024-03-05       New York          March     Adult         False\n",
            "7        1008     Henry Davis  29.0    Male           8700.0    2024-05-22        Chicago            May     Young         False\n",
            "8        1009    Isaac Newton  65.0    Male          51000.0    2024-01-01       New York        January    Senior          True\n",
            "9        1010    Jenny Thomas  38.5  Female           1800.0    2024-04-12  San Francisco          April     Adult         False\n"
          ]
        }
      ]
    },
    {
      "cell_type": "markdown",
      "source": [
        "Find the average purchase amount per Age_Group."
      ],
      "metadata": {
        "id": "8vNcoIhBlfXI"
      }
    },
    {
      "cell_type": "code",
      "source": [
        "new_df = df.groupby(\"Age_Group\")[\"Purchase_Amount\"].mean()\n",
        "print(new_df.to_string())"
      ],
      "metadata": {
        "colab": {
          "base_uri": "https://localhost:8080/"
        },
        "id": "FsothIUzC8qk",
        "outputId": "ab81eb68-3bbc-4198-f1f6-195e8009fd9d"
      },
      "execution_count": null,
      "outputs": [
        {
          "output_type": "stream",
          "name": "stdout",
          "text": [
            "Age_Group\n",
            "Adult      5475.000000\n",
            "Senior    25760.000000\n",
            "Young      4766.666667\n"
          ]
        }
      ]
    },
    {
      "cell_type": "markdown",
      "source": [
        "\n",
        "Which Purchase_Month had the highest total sales?"
      ],
      "metadata": {
        "id": "BRGMzfQLlfaV"
      }
    },
    {
      "cell_type": "markdown",
      "source": [
        "Get the count of customers per Purchase_Month."
      ],
      "metadata": {
        "id": "dQpnB311lfeH"
      }
    },
    {
      "cell_type": "code",
      "source": [
        "new_df = df.groupby(\"Name\")[\"Purchase_Amount\"].sum().sort_values(ascending = False).head(3)\n",
        "print(new_df.to_string())"
      ],
      "metadata": {
        "id": "G2UoVU1NF1vw"
      },
      "execution_count": null,
      "outputs": []
    },
    {
      "cell_type": "markdown",
      "source": [
        "Sort all customers by Purchase_Amount in descending order."
      ],
      "metadata": {
        "id": "f7YdwS3Sl3H8"
      }
    },
    {
      "cell_type": "code",
      "source": [
        "new_df = df.groupby(\"Name\")[\"Purchase_Amount\"].sum().sort_values(ascending = False).head(3)\n",
        "print(new_df.to_string())"
      ],
      "metadata": {
        "colab": {
          "base_uri": "https://localhost:8080/"
        },
        "id": "tIk0BCNcDlmc",
        "outputId": "c4e7ba03-917b-4232-cd22-8ff921ca3865"
      },
      "execution_count": null,
      "outputs": [
        {
          "output_type": "stream",
          "name": "stdout",
          "text": [
            "Name\n",
            "Isaac Newton    51000.0\n",
            "Daniel Craig    12000.0\n",
            "Henry Davis      8700.0\n"
          ]
        }
      ]
    },
    {
      "cell_type": "markdown",
      "source": [
        "List the top 3 highest spending customers.\n",
        "\n"
      ],
      "metadata": {
        "id": "QU5Clt73l3LW"
      }
    },
    {
      "cell_type": "code",
      "source": [
        "new_df = df.groupby(\"Name\")[\"Purchase_Amount\"].sum().sort_values(ascending = False).head(3)\n",
        "print(new_df.to_string())"
      ],
      "metadata": {
        "colab": {
          "base_uri": "https://localhost:8080/"
        },
        "id": "X_gHYe1IEpWN",
        "outputId": "5403f33c-f567-409a-da1d-53f666c6b2a7"
      },
      "execution_count": null,
      "outputs": [
        {
          "output_type": "stream",
          "name": "stdout",
          "text": [
            "Name\n",
            "Isaac Newton    51000.0\n",
            "Daniel Craig    12000.0\n",
            "Henry Davis      8700.0\n"
          ]
        }
      ]
    },
    {
      "cell_type": "markdown",
      "source": [
        "Standardize all entries in the City column to proper case (e.g., “new york” → “New York”)."
      ],
      "metadata": {
        "id": "nG2iNO_1n_B8"
      }
    },
    {
      "cell_type": "markdown",
      "source": [
        "Create a new column Spending_Category:\n",
        "•\t< 5000: \"Low\"\n",
        "•\t5000–20000: \"Medium\"\n",
        "•\t> 20000: \"High\""
      ],
      "metadata": {
        "id": "RBwz3WB0n_ET"
      }
    },
    {
      "cell_type": "markdown",
      "source": [
        "Extract the year from Purchase_Date into a new column called Purchase_Year.\n"
      ],
      "metadata": {
        "id": "5hAmu273n_G-"
      }
    },
    {
      "cell_type": "markdown",
      "source": [
        "Create a pivot table showing total Purchase_Amount by Purchase_Month and Age_Group."
      ],
      "metadata": {
        "id": "xVjdyhivn_Kk"
      }
    },
    {
      "cell_type": "markdown",
      "source": [
        "Calculate the percentage of High_Spender customers in each Age_Group."
      ],
      "metadata": {
        "id": "4CKqOG2xoVrW"
      }
    },
    {
      "cell_type": "markdown",
      "source": [
        "Plot a bar chart of total Purchase_Amount per City.\n"
      ],
      "metadata": {
        "id": "euSrWd35jeYZ"
      }
    },
    {
      "cell_type": "code",
      "source": [
        "import matplotlib.pyplot as plt\n",
        "import pandas as pd\n",
        "\n",
        "city_totals = df.groupby('Purchase_Month')['Purchase_Amount'].sum()\n",
        "print(city_totals.to_string())\n",
        "\n",
        "plt.figure(figsize =(10,6))\n",
        "city_totals.plot(kind=\"bar\",color=\"skyblue\",edgecolor =\"black\")\n",
        "plt.title(\"Total Purchase Amount per Month\",fontsize =\"16\",weight = \"bold\")\n",
        "plt.xlabel(\"Month\",fontsize =\"14\",color = \"maroon\")\n",
        "plt.ylabel(\"Total Purchase Amount (₹)\",fontsize =\"14\",color = \"maroon\")\n",
        "plt.xticks(rotation = 45,fontsize =\"11\")\n",
        "plt.grid(axis =\"y\",linestyle =\"--\")\n",
        "plt.tight_layout()\n",
        "plt.show()\n"
      ],
      "metadata": {
        "colab": {
          "base_uri": "https://localhost:8080/",
          "height": 514
        },
        "id": "4G4CxPxsjej0",
        "outputId": "935635cd-c6ea-492e-b538-cf53ecd34eec"
      },
      "execution_count": null,
      "outputs": [
        {
          "output_type": "stream",
          "name": "stdout",
          "text": [
            "Purchase_Month\n",
            "April        2320.0\n",
            "February    12000.0\n",
            "January     54100.0\n",
            "June         3700.0\n",
            "March        6900.0\n",
            "May          8700.0\n"
          ]
        },
        {
          "output_type": "display_data",
          "data": {
            "text/plain": [
              "<Figure size 1000x600 with 1 Axes>"
            ],
            "image/png": "[encoded data removed]"
          },
          "metadata": {}
        }
      ]
    },
    {
      "cell_type": "markdown",
      "source": [
        "Create a pie chart of Gender distribution.\n"
      ],
      "metadata": {
        "id": "bjxEenMcjexq"
      }
    },
    {
      "cell_type": "code",
      "source": [
        " Gender_distribution = df['Gender'].value_counts()\n",
        " print(Gender_distribution.to_string())\n",
        " mylabels = [\"Female\",\"Male\"]\n",
        " mycolors = [\"hotpink\",\"black\"]\n",
        " plt.pie(Gender_distribution,labels = mylabels,colors = mycolors)\n",
        " plt.legend()\n",
        " plt.title(\"Gender Distribution\")\n",
        " plt.show()"
      ],
      "metadata": {
        "colab": {
          "base_uri": "https://localhost:8080/",
          "height": 480
        },
        "id": "oRp4lT3oje8_",
        "outputId": "e050f3b4-06f6-4a83-93ca-cbff7af44ae5"
      },
      "execution_count": null,
      "outputs": [
        {
          "output_type": "stream",
          "name": "stdout",
          "text": [
            "Gender\n",
            "Female    5\n",
            "Male      4\n"
          ]
        },
        {
          "output_type": "display_data",
          "data": {
            "text/plain": [
              "<Figure size 640x480 with 1 Axes>"
            ],
            "image/png": "[encoded data removed]"
          },
          "metadata": {}
        }
      ]
    },
    {
      "cell_type": "markdown",
      "source": [
        "Plot a histogram of Age distribution.\n"
      ],
      "metadata": {
        "id": "HaOSTax0jfLU"
      }
    },
    {
      "cell_type": "code",
      "source": [
        "import matplotlib.pyplot as plt\n",
        "import pandas as pd\n",
        "\n",
        "# Filter and clean Age/Gender data\n",
        "df_clean = df[[\"Age\", \"Gender\"]].dropna()\n",
        "\n",
        "# Separate data by gender\n",
        "male_ages = df_clean[df_clean[\"Gender\"] == \"Male\"][\"Age\"]\n",
        "female_ages = df_clean[df_clean[\"Gender\"] == \"Female\"][\"Age\"]\n",
        "\n",
        "# Plot setup\n",
        "plt.figure(figsize=(10, 6))\n",
        "\n",
        "# Plot histograms for each gender side-by-side (using alpha)\n",
        "n_male, bins, _ = plt.hist(male_ages, bins=6, alpha=0.6, color=\"#007ACC\", edgecolor=\"black\", label=\"Male\")\n",
        "n_female, _, _ = plt.hist(female_ages, bins=bins, alpha=0.6, color=\"#FF69B4\", edgecolor=\"black\", label=\"Female\")\n",
        "\n",
        "# Add average age line\n",
        "mean_age = df_clean[\"Age\"].mean()\n",
        "plt.axvline(mean_age, color=\"red\", linestyle=\"--\", linewidth=2, label=f\"Average Age ({mean_age:.1f})\")\n",
        "\n",
        "# Count labels (combined total per bin)\n",
        "bin_centers = 0.5 * (bins[1:] + bins[:-1])\n",
        "bin_totals = n_male + n_female\n",
        "for x, count in zip(bin_centers, bin_totals):\n",
        "    plt.text(x, count + 0.5, str(int(count)), ha=\"center\", fontsize=10)\n",
        "\n",
        "# Labels and title\n",
        "plt.xlabel(\"Age\", fontsize=14, color=\"maroon\")\n",
        "plt.ylabel(\"Number of Customers\", fontsize=14, color=\"maroon\")\n",
        "plt.title(\"Age Distribution by Gender\", fontsize=16, weight='bold')\n",
        "plt.grid(axis=\"y\", linestyle=\"--\", alpha=0.6)\n",
        "plt.legend()\n",
        "\n",
        "# Layout and show\n",
        "plt.tight_layout()\n",
        "plt.show()\n"
      ],
      "metadata": {
        "colab": {
          "base_uri": "https://localhost:8080/",
          "height": 285
        },
        "id": "4N4fFcZzjfW6",
        "outputId": "0d0d9587-28a4-48cf-9c10-30e14c5ca57b"
      },
      "execution_count": null,
      "outputs": [
        {
          "output_type": "display_data",
          "data": {
            "text/plain": [
              "<Figure size 1000x600 with 1 Axes>"
            ],
            "image/png": "[encoded data removed]"
          },
          "metadata": {}
        }
      ]
    },
    {
      "cell_type": "markdown",
      "source": [
        "Plot a boxplot for Purchase_Amount to detect outliers."
      ],
      "metadata": {
        "id": "ltJ531IijflP"
      }
    },
    {
      "cell_type": "code",
      "source": [
        "import matplotlib.pyplot as plt\n",
        "import pandas as pd\n",
        "\n",
        "# Clean Age and Gender columns\n",
        "df_clean = df[[\"Age\", \"Gender\"]].dropna()\n",
        "\n",
        "# Define color map for gender\n",
        "colors = df_clean[\"Gender\"].map({\"Male\": \"#007ACC\", \"Female\": \"#FF69B4\"})\n",
        "\n",
        "# Plot histogram grouped by gender\n",
        "plt.figure(figsize=(10, 6))\n",
        "n, bins, patches = plt.hist(df_clean[\"Age\"], bins=6, color=colors, edgecolor=\"black\", label=df_clean[\"Gender\"].unique())\n",
        "\n",
        "# Average age line\n",
        "mean_age = df_clean[\"Age\"].mean()\n",
        "plt.axvline(mean_age, color=\"red\", linestyle=\"--\", linewidth=2, label=f\"Average Age ({mean_age:.1f})\")\n",
        "\n",
        "# Add count labels on top of bars\n",
        "for count, edge in zip(n, bins[:-1]):\n",
        "    plt.text(x=edge + (bins[1] - bins[0]) / 2 - 1, y=count + 0.5, s=int(count), ha=\"center\", fontsize=10)\n",
        "\n",
        "# Labels and title\n",
        "plt.xlabel(\"Age\", fontsize=14, color=\"maroon\")\n",
        "plt.ylabel(\"Number of Customers\", fontsize=14, color=\"maroon\")\n",
        "plt.title(\"Age Distribution by Gender\", fontsize=16, weight='bold')\n",
        "plt.grid(axis=\"y\", linestyle=\"--\", alpha=0.7)\n",
        "plt.legend()\n",
        "\n",
        "# Show plot\n",
        "plt.tight_layout()\n",
        "plt.show()\n"
      ],
      "metadata": {
        "id": "wt_JOl9fjfw1",
        "colab": {
          "base_uri": "https://localhost:8080/",
          "height": 844
        },
        "outputId": "90ca9a20-dd7a-4119-a2bd-0b74d754644a"
      },
      "execution_count": null,
      "outputs": [
        {
          "output_type": "error",
          "ename": "ValueError",
          "evalue": "The 'color' keyword argument must have one color per dataset, but 1 datasets and 9 colors were provided",
          "traceback": [
            "\u001b[0;31m---------------------------------------------------------------------------\u001b[0m",
            "\u001b[0;31mValueError\u001b[0m                                Traceback (most recent call last)",
            "\u001b[0;32m/tmp/ipython-input-343664440.py\u001b[0m in \u001b[0;36m<cell line: 0>\u001b[0;34m()\u001b[0m\n\u001b[1;32m     10\u001b[0m \u001b[0;31m# Plot histogram grouped by gender\u001b[0m\u001b[0;34m\u001b[0m\u001b[0;34m\u001b[0m\u001b[0m\n\u001b[1;32m     11\u001b[0m \u001b[0mplt\u001b[0m\u001b[0;34m.\u001b[0m\u001b[0mfigure\u001b[0m\u001b[0;34m(\u001b[0m\u001b[0mfigsize\u001b[0m\u001b[0;34m=\u001b[0m\u001b[0;34m(\u001b[0m\u001b[0;36m10\u001b[0m\u001b[0;34m,\u001b[0m \u001b[0;36m6\u001b[0m\u001b[0;34m)\u001b[0m\u001b[0;34m)\u001b[0m\u001b[0;34m\u001b[0m\u001b[0;34m\u001b[0m\u001b[0m\n\u001b[0;32m---> 12\u001b[0;31m \u001b[0mn\u001b[0m\u001b[0;34m,\u001b[0m \u001b[0mbins\u001b[0m\u001b[0;34m,\u001b[0m \u001b[0mpatches\u001b[0m \u001b[0;34m=\u001b[0m \u001b[0mplt\u001b[0m\u001b[0;34m.\u001b[0m\u001b[0mhist\u001b[0m\u001b[0;34m(\u001b[0m\u001b[0mdf_clean\u001b[0m\u001b[0;34m[\u001b[0m\u001b[0;34m\"Age\"\u001b[0m\u001b[0;34m]\u001b[0m\u001b[0;34m,\u001b[0m \u001b[0mbins\u001b[0m\u001b[0;34m=\u001b[0m\u001b[0;36m6\u001b[0m\u001b[0;34m,\u001b[0m \u001b[0mcolor\u001b[0m\u001b[0;34m=\u001b[0m\u001b[0mcolors\u001b[0m\u001b[0;34m,\u001b[0m \u001b[0medgecolor\u001b[0m\u001b[0;34m=\u001b[0m\u001b[0;34m\"black\"\u001b[0m\u001b[0;34m,\u001b[0m \u001b[0mlabel\u001b[0m\u001b[0;34m=\u001b[0m\u001b[0mdf_clean\u001b[0m\u001b[0;34m[\u001b[0m\u001b[0;34m\"Gender\"\u001b[0m\u001b[0;34m]\u001b[0m\u001b[0;34m.\u001b[0m\u001b[0munique\u001b[0m\u001b[0;34m(\u001b[0m\u001b[0;34m)\u001b[0m\u001b[0;34m)\u001b[0m\u001b[0;34m\u001b[0m\u001b[0;34m\u001b[0m\u001b[0m\n\u001b[0m\u001b[1;32m     13\u001b[0m \u001b[0;34m\u001b[0m\u001b[0m\n\u001b[1;32m     14\u001b[0m \u001b[0;31m# Average age line\u001b[0m\u001b[0;34m\u001b[0m\u001b[0;34m\u001b[0m\u001b[0m\n",
            "\u001b[0;32m/usr/local/lib/python3.11/dist-packages/matplotlib/_api/deprecation.py\u001b[0m in \u001b[0;36mwrapper\u001b[0;34m(*args, **kwargs)\u001b[0m\n\u001b[1;32m    451\u001b[0m                 \u001b[0;34m\"parameter will become keyword-only in %(removal)s.\"\u001b[0m\u001b[0;34m,\u001b[0m\u001b[0;34m\u001b[0m\u001b[0;34m\u001b[0m\u001b[0m\n\u001b[1;32m    452\u001b[0m                 name=name, obj_type=f\"parameter of {func.__name__}()\")\n\u001b[0;32m--> 453\u001b[0;31m         \u001b[0;32mreturn\u001b[0m \u001b[0mfunc\u001b[0m\u001b[0;34m(\u001b[0m\u001b[0;34m*\u001b[0m\u001b[0margs\u001b[0m\u001b[0;34m,\u001b[0m \u001b[0;34m**\u001b[0m\u001b[0mkwargs\u001b[0m\u001b[0;34m)\u001b[0m\u001b[0;34m\u001b[0m\u001b[0;34m\u001b[0m\u001b[0m\n\u001b[0m\u001b[1;32m    454\u001b[0m \u001b[0;34m\u001b[0m\u001b[0m\n\u001b[1;32m    455\u001b[0m     \u001b[0;31m# Don't modify *func*'s signature, as boilerplate.py needs it.\u001b[0m\u001b[0;34m\u001b[0m\u001b[0;34m\u001b[0m\u001b[0m\n",
            "\u001b[0;32m/usr/local/lib/python3.11/dist-packages/matplotlib/pyplot.py\u001b[0m in \u001b[0;36mhist\u001b[0;34m(x, bins, range, density, weights, cumulative, bottom, histtype, align, orientation, rwidth, log, color, label, stacked, data, **kwargs)\u001b[0m\n\u001b[1;32m   3467\u001b[0m     \u001b[0mBarContainer\u001b[0m \u001b[0;34m|\u001b[0m \u001b[0mPolygon\u001b[0m \u001b[0;34m|\u001b[0m \u001b[0mlist\u001b[0m\u001b[0;34m[\u001b[0m\u001b[0mBarContainer\u001b[0m \u001b[0;34m|\u001b[0m \u001b[0mPolygon\u001b[0m\u001b[0;34m]\u001b[0m\u001b[0;34m,\u001b[0m\u001b[0;34m\u001b[0m\u001b[0;34m\u001b[0m\u001b[0m\n\u001b[1;32m   3468\u001b[0m ]:\n\u001b[0;32m-> 3469\u001b[0;31m     return gca().hist(\n\u001b[0m\u001b[1;32m   3470\u001b[0m         \u001b[0mx\u001b[0m\u001b[0;34m,\u001b[0m\u001b[0;34m\u001b[0m\u001b[0;34m\u001b[0m\u001b[0m\n\u001b[1;32m   3471\u001b[0m         \u001b[0mbins\u001b[0m\u001b[0;34m=\u001b[0m\u001b[0mbins\u001b[0m\u001b[0;34m,\u001b[0m\u001b[0;34m\u001b[0m\u001b[0;34m\u001b[0m\u001b[0m\n",
            "\u001b[0;32m/usr/local/lib/python3.11/dist-packages/matplotlib/_api/deprecation.py\u001b[0m in \u001b[0;36mwrapper\u001b[0;34m(*args, **kwargs)\u001b[0m\n\u001b[1;32m    451\u001b[0m                 \u001b[0;34m\"parameter will become keyword-only in %(removal)s.\"\u001b[0m\u001b[0;34m,\u001b[0m\u001b[0;34m\u001b[0m\u001b[0;34m\u001b[0m\u001b[0m\n\u001b[1;32m    452\u001b[0m                 name=name, obj_type=f\"parameter of {func.__name__}()\")\n\u001b[0;32m--> 453\u001b[0;31m         \u001b[0;32mreturn\u001b[0m \u001b[0mfunc\u001b[0m\u001b[0;34m(\u001b[0m\u001b[0;34m*\u001b[0m\u001b[0margs\u001b[0m\u001b[0;34m,\u001b[0m \u001b[0;34m**\u001b[0m\u001b[0mkwargs\u001b[0m\u001b[0;34m)\u001b[0m\u001b[0;34m\u001b[0m\u001b[0;34m\u001b[0m\u001b[0m\n\u001b[0m\u001b[1;32m    454\u001b[0m \u001b[0;34m\u001b[0m\u001b[0m\n\u001b[1;32m    455\u001b[0m     \u001b[0;31m# Don't modify *func*'s signature, as boilerplate.py needs it.\u001b[0m\u001b[0;34m\u001b[0m\u001b[0;34m\u001b[0m\u001b[0m\n",
            "\u001b[0;32m/usr/local/lib/python3.11/dist-packages/matplotlib/__init__.py\u001b[0m in \u001b[0;36minner\u001b[0;34m(ax, data, *args, **kwargs)\u001b[0m\n\u001b[1;32m   1519\u001b[0m     \u001b[0;32mdef\u001b[0m \u001b[0minner\u001b[0m\u001b[0;34m(\u001b[0m\u001b[0max\u001b[0m\u001b[0;34m,\u001b[0m \u001b[0;34m*\u001b[0m\u001b[0margs\u001b[0m\u001b[0;34m,\u001b[0m \u001b[0mdata\u001b[0m\u001b[0;34m=\u001b[0m\u001b[0;32mNone\u001b[0m\u001b[0;34m,\u001b[0m \u001b[0;34m**\u001b[0m\u001b[0mkwargs\u001b[0m\u001b[0;34m)\u001b[0m\u001b[0;34m:\u001b[0m\u001b[0;34m\u001b[0m\u001b[0;34m\u001b[0m\u001b[0m\n\u001b[1;32m   1520\u001b[0m         \u001b[0;32mif\u001b[0m \u001b[0mdata\u001b[0m \u001b[0;32mis\u001b[0m \u001b[0;32mNone\u001b[0m\u001b[0;34m:\u001b[0m\u001b[0;34m\u001b[0m\u001b[0;34m\u001b[0m\u001b[0m\n\u001b[0;32m-> 1521\u001b[0;31m             return func(\n\u001b[0m\u001b[1;32m   1522\u001b[0m                 \u001b[0max\u001b[0m\u001b[0;34m,\u001b[0m\u001b[0;34m\u001b[0m\u001b[0;34m\u001b[0m\u001b[0m\n\u001b[1;32m   1523\u001b[0m                 \u001b[0;34m*\u001b[0m\u001b[0mmap\u001b[0m\u001b[0;34m(\u001b[0m\u001b[0mcbook\u001b[0m\u001b[0;34m.\u001b[0m\u001b[0msanitize_sequence\u001b[0m\u001b[0;34m,\u001b[0m \u001b[0margs\u001b[0m\u001b[0;34m)\u001b[0m\u001b[0;34m,\u001b[0m\u001b[0;34m\u001b[0m\u001b[0;34m\u001b[0m\u001b[0m\n",
            "\u001b[0;32m/usr/local/lib/python3.11/dist-packages/matplotlib/axes/_axes.py\u001b[0m in \u001b[0;36mhist\u001b[0;34m(self, x, bins, range, density, weights, cumulative, bottom, histtype, align, orientation, rwidth, log, color, label, stacked, **kwargs)\u001b[0m\n\u001b[1;32m   7047\u001b[0m             \u001b[0mcolors\u001b[0m \u001b[0;34m=\u001b[0m \u001b[0mmcolors\u001b[0m\u001b[0;34m.\u001b[0m\u001b[0mto_rgba_array\u001b[0m\u001b[0;34m(\u001b[0m\u001b[0mcolor\u001b[0m\u001b[0;34m)\u001b[0m\u001b[0;34m\u001b[0m\u001b[0;34m\u001b[0m\u001b[0m\n\u001b[1;32m   7048\u001b[0m             \u001b[0;32mif\u001b[0m \u001b[0mlen\u001b[0m\u001b[0;34m(\u001b[0m\u001b[0mcolors\u001b[0m\u001b[0;34m)\u001b[0m \u001b[0;34m!=\u001b[0m \u001b[0mnx\u001b[0m\u001b[0;34m:\u001b[0m\u001b[0;34m\u001b[0m\u001b[0;34m\u001b[0m\u001b[0m\n\u001b[0;32m-> 7049\u001b[0;31m                 raise ValueError(f\"The 'color' keyword argument must have one \"\n\u001b[0m\u001b[1;32m   7050\u001b[0m                                  \u001b[0;34mf\"color per dataset, but {nx} datasets and \"\u001b[0m\u001b[0;34m\u001b[0m\u001b[0;34m\u001b[0m\u001b[0m\n\u001b[1;32m   7051\u001b[0m                                  f\"{len(colors)} colors were provided\")\n",
            "\u001b[0;31mValueError\u001b[0m: The 'color' keyword argument must have one color per dataset, but 1 datasets and 9 colors were provided"
          ]
        },
        {
          "output_type": "display_data",
          "data": {
            "text/plain": [
              "<Figure size 1000x600 with 1 Axes>"
            ],
            "image/png": "[encoded data removed]"
          },
          "metadata": {}
        }
      ]
    },
    {
      "cell_type": "code",
      "source": [],
      "metadata": {
        "id": "uK4w5qT5XeKm"
      },
      "execution_count": null,
      "outputs": []
    }
  ]
}